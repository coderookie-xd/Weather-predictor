{
 "cells": [
  {
   "cell_type": "code",
   "execution_count": 17,
   "id": "587256c7-d662-4549-bdfa-edb5d38f88e7",
   "metadata": {},
   "outputs": [
    {
     "name": "stdout",
     "output_type": "stream",
     "text": [
      "MSE: 0.3638023972602738\n",
      "R² Score: 0.998809424748599\n"
     ]
    }
   ],
   "source": [
    "import pandas as pd \n",
    "import numpy as np \n",
    "import matplotlib as plt \n",
    "import seaborn as sb\n",
    "from sklearn.ensemble import RandomForestRegressor \n",
    "from sklearn.model_selection import train_test_split\n",
    "from sklearn.metrics import mean_squared_error , r2_score \n",
    "\n",
    "df = pd.read_csv(r'D:\\Weather-predictor\\data\\nyc_weather_dataset.csv')\n",
    "df.head() \n",
    "\n",
    "X = df[[\"tmax\", \"tmin\", \"departure\",  \"HDD\", \"CDD\" ]]\n",
    "y = df[\"tavg\"] \n",
    "\n",
    "X_train ,X_test, y_train, y_test = train_test_split( X, y, test_size = 0.2, random_state = 42 ) \n",
    "model = RandomForestRegressor(n_estimators = 100 , random_state = 42 ) \n",
    "model.fit(X_train, y_train ) \n",
    "\n",
    "y_pred = model.predict(X_test)\n",
    "\n",
    "print(\"MSE:\", mean_squared_error(y_test, y_pred))\n",
    "print(\"R² Score:\", r2_score(y_test, y_pred))\n"
   ]
  },
  {
   "cell_type": "code",
   "execution_count": null,
   "id": "8c07851c-af91-4789-8d1a-1ff3fe1a389c",
   "metadata": {},
   "outputs": [],
   "source": []
  }
 ],
 "metadata": {
  "kernelspec": {
   "display_name": "Python [conda env:base] *",
   "language": "python",
   "name": "conda-base-py"
  },
  "language_info": {
   "codemirror_mode": {
    "name": "ipython",
    "version": 3
   },
   "file_extension": ".py",
   "mimetype": "text/x-python",
   "name": "python",
   "nbconvert_exporter": "python",
   "pygments_lexer": "ipython3",
   "version": "3.12.7"
  }
 },
 "nbformat": 4,
 "nbformat_minor": 5
}
